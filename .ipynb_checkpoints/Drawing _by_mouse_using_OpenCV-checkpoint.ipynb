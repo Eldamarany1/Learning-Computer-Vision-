{
 "cells": [
  {
   "cell_type": "markdown",
   "id": "e1ff9ef9-a64c-4699-83d9-da2a96fcd585",
   "metadata": {},
   "source": [
    "# Drawing on images using a mouse by OpenCV"
   ]
  },
  {
   "cell_type": "code",
   "execution_count": 1,
   "id": "acc7b95d-5462-4f96-b9ca-1cd557810a0d",
   "metadata": {},
   "outputs": [],
   "source": [
    "import cv2 as cv"
   ]
  },
  {
   "cell_type": "code",
   "execution_count": 2,
   "id": "695d9d3a-e623-4c82-b16c-bbd436d2eedc",
   "metadata": {},
   "outputs": [],
   "source": [
    "import numpy as np"
   ]
  },
  {
   "cell_type": "code",
   "execution_count": 11,
   "id": "105402d7-9ff2-4c1d-8ec9-cd59ba14a0b6",
   "metadata": {},
   "outputs": [],
   "source": [
    "def draw_circle (event, x, y, flags, param):\n",
    "    \n",
    "    if event == cv.EVENT_LBUTTONDOWN:\n",
    "        cv.circle(black_img, (x,y), 50, (120,130,20), -1)\n",
    "\n",
    "    # Additional function\n",
    "    if event == cv.EVENT_RBUTTONDOWN: #just changes the color if we clicked the right button\n",
    "        cv.circle(black_img, (x,y), 50, (200,20,130), -1)\n",
    "\n",
    "        \n",
    "cv.namedWindow(\"black_img\")\n",
    "\n",
    "cv.setMouseCallback(\"black_img\",draw_circle)\n",
    "\n",
    "black_img = np.zeros( (1080,1980,3), dtype = np.int8) # int8 datatype makes the black screen more gray\n",
    "\n",
    "while True :\n",
    "    \n",
    "    cv.imshow(\"black_img\",black_img)\n",
    "    \n",
    "    if cv.waitKey(1) & 0xff == 27: \n",
    "        break \n",
    "    \n",
    "cv.destroyAllWindows()"
   ]
  },
  {
   "cell_type": "markdown",
   "id": "72b1bc3e-e182-4fab-938d-fc23c511c6ed",
   "metadata": {},
   "source": [
    "## Ok now that's sound wierd because i did all that in one code part (or two code part if we get too specific)\n",
    "### What did we doooooo thennnnnn??!!!!\n",
    "### Well let's see"
   ]
  },
  {
   "cell_type": "markdown",
   "id": "0c0a6864-afed-43ab-a8ca-e9452de150bc",
   "metadata": {},
   "source": [
    "#### We did import the libraries at first (OMG sherlock how did you find out)\n",
    "#### then we did make a function which its mission is to draw a filled circle in the spot we click in the image, the condition for it is to click the mouse obviously\n",
    "#### we then specified the named window to be our black image NAME , THE NAME OF THE WINDOW NOT THE IMAGE VARIABLE\n",
    "#### then we made a call back event for the mouse that if we clicked in anypart of the image the function that we've written will be called\n",
    "#### and at the end we generated the black image and opened it using OpenCV the way we've learned (see adding_shapes_and_texts_to_images.ipynb)"
   ]
  },
  {
   "cell_type": "markdown",
   "id": "cf3a1062-ceed-4f35-aaff-a3558fa87d6f",
   "metadata": {},
   "source": [
    "# Drawing a rectangle but we have more control of its dimentions by mouse"
   ]
  },
  {
   "cell_type": "code",
   "execution_count": 12,
   "id": "ad57e85b-3f6e-41c6-b1ce-226ddf9081d2",
   "metadata": {},
   "outputs": [],
   "source": [
    "#global variables\n",
    "drawing = False\n",
    "x1 = -1\n",
    "y1 = -1\n",
    "\n",
    "def draw_rectangle (event, x2, y2, flags, param):\n",
    "\n",
    "    global drawing, x1, y1\n",
    "    \n",
    "    if event == cv.EVENT_LBUTTONDOWN:\n",
    "        drawing = True\n",
    "        x1,y1 = x2,y2\n",
    "        cv.rectangle(black_img, (x1,y1), (x2,y2), (120,130,20), -1)\n",
    "\n",
    "    if event == cv.EVENT_MOUSEMOVE:\n",
    "        if drawing == True:\n",
    "            cv.rectangle(black_img, (x1,y1), (x2,y2), (120,130,20), -1)\n",
    "\n",
    "    if event == cv.EVENT_LBUTTONUP:\n",
    "        drawing = False\n",
    "        cv.rectangle(black_img, (x1,y1), (x2,y2), (120,130,20), -1)\n",
    "\n",
    "        \n",
    "cv.namedWindow(\"black_img\")\n",
    "\n",
    "cv.setMouseCallback(\"black_img\",draw_rectangle)\n",
    "\n",
    "black_img = np.zeros( (1080,1980,3), dtype = np.int8) # int8 datatype makes the black screen more gray\n",
    "\n",
    "while True :\n",
    "    \n",
    "    cv.imshow(\"black_img\",black_img)\n",
    "    \n",
    "    if cv.waitKey(1) & 0xff == 27: \n",
    "        break \n",
    "    \n",
    "cv.destroyAllWindows()"
   ]
  },
  {
   "cell_type": "markdown",
   "id": "46e2cc6c-c37c-4b8a-872f-2d4e888b4eb1",
   "metadata": {},
   "source": [
    "## I'm in a low mode to explain all of it so i'll go through fast\n",
    "#### we had three global varibales one is a boolean for a drawing condition and the others are numbers\n",
    "#### we had a function with a three conditions:\n",
    "#### one the initialize the rectangle drawing\n",
    "#### one to give as the ability to draw as we move by changing the coordinates\n",
    "#### and one to end the drawing as we stopped holding the left click\n",
    "#### The rest you know"
   ]
  },
  {
   "cell_type": "markdown",
   "id": "fceb8353-618a-453b-ba76-b226f46b703d",
   "metadata": {},
   "source": [
    "# Thank You And GoodBye"
   ]
  }
 ],
 "metadata": {
  "kernelspec": {
   "display_name": "Python 3 (ipykernel)",
   "language": "python",
   "name": "python3"
  },
  "language_info": {
   "codemirror_mode": {
    "name": "ipython",
    "version": 3
   },
   "file_extension": ".py",
   "mimetype": "text/x-python",
   "name": "python",
   "nbconvert_exporter": "python",
   "pygments_lexer": "ipython3",
   "version": "3.11.9"
  }
 },
 "nbformat": 4,
 "nbformat_minor": 5
}
