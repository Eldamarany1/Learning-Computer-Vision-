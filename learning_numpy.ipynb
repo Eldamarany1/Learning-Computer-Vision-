{
 "cells": [
  {
   "cell_type": "markdown",
   "id": "889f0634-fb63-4b0b-99f4-91251009d189",
   "metadata": {},
   "source": [
    "# Numpy "
   ]
  },
  {
   "cell_type": "markdown",
   "id": "c5aa537a-61f4-42dd-97bb-67d3ca382569",
   "metadata": {},
   "source": [
    "## Importing Numpy"
   ]
  },
  {
   "cell_type": "code",
   "execution_count": 2,
   "id": "331b5ad3-60f9-4ddb-a84f-58117df855f6",
   "metadata": {},
   "outputs": [],
   "source": [
    "import numpy as np"
   ]
  },
  {
   "cell_type": "markdown",
   "id": "90318f33-eb3c-4e0e-b4f4-c090b254fe79",
   "metadata": {},
   "source": [
    "## creating array"
   ]
  },
  {
   "cell_type": "code",
   "execution_count": 3,
   "id": "083c91dc-9465-48c6-a75e-68307d5fd19d",
   "metadata": {},
   "outputs": [],
   "source": [
    "some_list = [1,2,3,4]"
   ]
  },
  {
   "cell_type": "code",
   "execution_count": 4,
   "id": "b7222463-867e-4b8e-8812-8c9bbf06b2ed",
   "metadata": {},
   "outputs": [],
   "source": [
    "some_array = np.array(some_list)"
   ]
  },
  {
   "cell_type": "code",
   "execution_count": 5,
   "id": "b08996e0-1ad2-45ca-a58a-626699587779",
   "metadata": {},
   "outputs": [
    {
     "data": {
      "text/plain": [
       "array([1, 2, 3, 4])"
      ]
     },
     "execution_count": 5,
     "metadata": {},
     "output_type": "execute_result"
    }
   ],
   "source": [
    "some_array"
   ]
  },
  {
   "cell_type": "code",
   "execution_count": 7,
   "id": "4844e46e-6f39-4158-a3dc-a9938ccc7202",
   "metadata": {},
   "outputs": [
    {
     "data": {
      "text/plain": [
       "numpy.ndarray"
      ]
     },
     "execution_count": 7,
     "metadata": {},
     "output_type": "execute_result"
    }
   ],
   "source": [
    "type(some_array)"
   ]
  },
  {
   "cell_type": "markdown",
   "id": "68ee67b9-62d8-493d-b7b7-83060f0fbd19",
   "metadata": {},
   "source": [
    "## arange function"
   ]
  },
  {
   "cell_type": "markdown",
   "id": "822b1446-8f39-46d2-b9e1-d701bbcbd6df",
   "metadata": {},
   "source": [
    "### (generate array with a step size and it's a numpy version of the range() Function"
   ]
  },
  {
   "cell_type": "code",
   "execution_count": 8,
   "id": "fdceee0f-9733-4c35-939d-7a0ce38b74d0",
   "metadata": {},
   "outputs": [
    {
     "data": {
      "text/plain": [
       "array([0, 2, 4, 6, 8])"
      ]
     },
     "execution_count": 8,
     "metadata": {},
     "output_type": "execute_result"
    }
   ],
   "source": [
    "np.arange(0,10,2)"
   ]
  },
  {
   "cell_type": "markdown",
   "id": "44b9a8ff-a14f-4ac5-bc1f-641435f4add5",
   "metadata": {},
   "source": [
    "## zeros function"
   ]
  },
  {
   "cell_type": "markdown",
   "id": "396061cb-16a5-4d14-9338-50b77d2bbd86",
   "metadata": {},
   "source": [
    "### Make arrays of zeros (floats) in the shape of our choice"
   ]
  },
  {
   "cell_type": "code",
   "execution_count": 12,
   "id": "8fac542b-e96c-4bec-990b-07ed9b08cfcc",
   "metadata": {},
   "outputs": [
    {
     "data": {
      "text/plain": [
       "array([[0., 0., 0., 0., 0., 0., 0., 0., 0., 0.],\n",
       "       [0., 0., 0., 0., 0., 0., 0., 0., 0., 0.],\n",
       "       [0., 0., 0., 0., 0., 0., 0., 0., 0., 0.],\n",
       "       [0., 0., 0., 0., 0., 0., 0., 0., 0., 0.],\n",
       "       [0., 0., 0., 0., 0., 0., 0., 0., 0., 0.]])"
      ]
     },
     "execution_count": 12,
     "metadata": {},
     "output_type": "execute_result"
    }
   ],
   "source": [
    "np.zeros(shape=(5,10)) ## 5 for rows , 10 for columns"
   ]
  },
  {
   "cell_type": "markdown",
   "id": "5ce2f0e0-e4de-477b-81db-b34ce8c05ce4",
   "metadata": {},
   "source": [
    "## ones function"
   ]
  },
  {
   "cell_type": "code",
   "execution_count": 14,
   "id": "aec0dbf9-7b63-45ed-83e7-20625f9d16ff",
   "metadata": {},
   "outputs": [
    {
     "data": {
      "text/plain": [
       "array([[1., 1., 1., 1., 1.],\n",
       "       [1., 1., 1., 1., 1.],\n",
       "       [1., 1., 1., 1., 1.],\n",
       "       [1., 1., 1., 1., 1.],\n",
       "       [1., 1., 1., 1., 1.],\n",
       "       [1., 1., 1., 1., 1.],\n",
       "       [1., 1., 1., 1., 1.],\n",
       "       [1., 1., 1., 1., 1.],\n",
       "       [1., 1., 1., 1., 1.],\n",
       "       [1., 1., 1., 1., 1.]])"
      ]
     },
     "execution_count": 14,
     "metadata": {},
     "output_type": "execute_result"
    }
   ],
   "source": [
    "np.ones(shape = (10,5))"
   ]
  },
  {
   "cell_type": "markdown",
   "id": "36736c9b-ac55-4eff-9d5b-77f41b1ee1d8",
   "metadata": {},
   "source": [
    "## random function and seed internal function of random"
   ]
  },
  {
   "cell_type": "markdown",
   "id": "935371d6-229a-47ab-a92b-a6eb97ca4661",
   "metadata": {},
   "source": [
    "#### random generates random numbers and seed makes the created randoms numbers the same each time depending on the number argument i put inside it (it's kind of complicated mathmatics but when we make random arrays after it , it makes the different numbers in each array yes ; but when we run the it from the beginning of the seed line again it will generate the same random numbers for the array)"
   ]
  },
  {
   "cell_type": "code",
   "execution_count": 23,
   "id": "8ea1805e-d25e-4c22-9a91-7cda694d6156",
   "metadata": {},
   "outputs": [],
   "source": [
    "np.random.seed(101)\n",
    "random_array = np.random.randint(0,100,10)"
   ]
  },
  {
   "cell_type": "code",
   "execution_count": 24,
   "id": "38e455a2-bb8f-4fcb-9e08-7cb13548080b",
   "metadata": {},
   "outputs": [
    {
     "data": {
      "text/plain": [
       "array([95, 11, 81, 70, 63, 87, 75,  9, 77, 40])"
      ]
     },
     "execution_count": 24,
     "metadata": {},
     "output_type": "execute_result"
    }
   ],
   "source": [
    "random_array"
   ]
  },
  {
   "cell_type": "code",
   "execution_count": 25,
   "id": "f65763af-5781-4f5b-958e-30310a2d0011",
   "metadata": {},
   "outputs": [],
   "source": [
    "random_array2 = np.random.randint(0,100,10)"
   ]
  },
  {
   "cell_type": "code",
   "execution_count": 26,
   "id": "55afa8dd-93c9-4f78-be9c-bfceae94ef1b",
   "metadata": {},
   "outputs": [
    {
     "data": {
      "text/plain": [
       "array([ 4, 63, 40, 60, 92, 64,  5, 12, 93, 40])"
      ]
     },
     "execution_count": 26,
     "metadata": {},
     "output_type": "execute_result"
    }
   ],
   "source": [
    "random_array2"
   ]
  },
  {
   "cell_type": "markdown",
   "id": "39482db9-cca7-4409-89a2-8d19a3879dbc",
   "metadata": {},
   "source": [
    "## max & min function"
   ]
  },
  {
   "cell_type": "code",
   "execution_count": 27,
   "id": "20d7bb9c-cb1a-46cb-96ed-c5ab6cdc2867",
   "metadata": {},
   "outputs": [
    {
     "data": {
      "text/plain": [
       "np.int64(93)"
      ]
     },
     "execution_count": 27,
     "metadata": {},
     "output_type": "execute_result"
    }
   ],
   "source": [
    "random_array2.max()"
   ]
  },
  {
   "cell_type": "code",
   "execution_count": 28,
   "id": "f8cce23f-05c5-49b0-8919-39485d35bd97",
   "metadata": {},
   "outputs": [
    {
     "data": {
      "text/plain": [
       "np.int64(8)"
      ]
     },
     "execution_count": 28,
     "metadata": {},
     "output_type": "execute_result"
    }
   ],
   "source": [
    "random_array2.argmax()"
   ]
  },
  {
   "cell_type": "code",
   "execution_count": 29,
   "id": "22135a77-2b42-4b29-becf-cd15757d3bb3",
   "metadata": {},
   "outputs": [
    {
     "data": {
      "text/plain": [
       "np.int64(4)"
      ]
     },
     "execution_count": 29,
     "metadata": {},
     "output_type": "execute_result"
    }
   ],
   "source": [
    "random_array2.min()"
   ]
  },
  {
   "cell_type": "code",
   "execution_count": 30,
   "id": "1742a978-04ab-4268-8b1e-ac248f9203b4",
   "metadata": {},
   "outputs": [
    {
     "data": {
      "text/plain": [
       "np.int64(0)"
      ]
     },
     "execution_count": 30,
     "metadata": {},
     "output_type": "execute_result"
    }
   ],
   "source": [
    "random_array2.argmin()"
   ]
  },
  {
   "cell_type": "markdown",
   "id": "fb463ed9-30e1-44e5-b9a7-5ab135fa9d15",
   "metadata": {},
   "source": [
    "## mean function"
   ]
  },
  {
   "cell_type": "code",
   "execution_count": 34,
   "id": "75eee689-bbe5-4480-8e4d-cb4f2bcc24fc",
   "metadata": {},
   "outputs": [
    {
     "data": {
      "text/plain": [
       "np.float64(47.3)"
      ]
     },
     "execution_count": 34,
     "metadata": {},
     "output_type": "execute_result"
    }
   ],
   "source": [
    "random_array2.mean()"
   ]
  },
  {
   "cell_type": "markdown",
   "id": "b762fb4c-8b58-4dd0-8dfa-645457f4c18e",
   "metadata": {},
   "source": [
    "## shape & reshape functions"
   ]
  },
  {
   "cell_type": "code",
   "execution_count": 33,
   "id": "6df84956-3071-4656-af39-47da422c27f4",
   "metadata": {},
   "outputs": [
    {
     "data": {
      "text/plain": [
       "(10,)"
      ]
     },
     "execution_count": 33,
     "metadata": {},
     "output_type": "execute_result"
    }
   ],
   "source": [
    "random_array2.shape"
   ]
  },
  {
   "cell_type": "code",
   "execution_count": 37,
   "id": "f2e53a8c-3948-4817-941d-88fee0a8aef0",
   "metadata": {},
   "outputs": [
    {
     "data": {
      "text/plain": [
       "array([[ 4, 63],\n",
       "       [40, 60],\n",
       "       [92, 64],\n",
       "       [ 5, 12],\n",
       "       [93, 40]])"
      ]
     },
     "execution_count": 37,
     "metadata": {},
     "output_type": "execute_result"
    }
   ],
   "source": [
    "random_array2.reshape(5,2)"
   ]
  },
  {
   "cell_type": "markdown",
   "id": "fea827a1-b195-4ad3-9675-864c37573c09",
   "metadata": {},
   "source": [
    "## making & dealing with matrices with what we've known"
   ]
  },
  {
   "cell_type": "code",
   "execution_count": 38,
   "id": "50f7a2dc-924a-4dbb-8257-980cf03847f4",
   "metadata": {},
   "outputs": [],
   "source": [
    "mat = np.arange(0,100).reshape(10,10)"
   ]
  },
  {
   "cell_type": "code",
   "execution_count": 39,
   "id": "c5b4e4f5-a19e-400d-94e6-021e3501baa2",
   "metadata": {},
   "outputs": [
    {
     "data": {
      "text/plain": [
       "array([[ 0,  1,  2,  3,  4,  5,  6,  7,  8,  9],\n",
       "       [10, 11, 12, 13, 14, 15, 16, 17, 18, 19],\n",
       "       [20, 21, 22, 23, 24, 25, 26, 27, 28, 29],\n",
       "       [30, 31, 32, 33, 34, 35, 36, 37, 38, 39],\n",
       "       [40, 41, 42, 43, 44, 45, 46, 47, 48, 49],\n",
       "       [50, 51, 52, 53, 54, 55, 56, 57, 58, 59],\n",
       "       [60, 61, 62, 63, 64, 65, 66, 67, 68, 69],\n",
       "       [70, 71, 72, 73, 74, 75, 76, 77, 78, 79],\n",
       "       [80, 81, 82, 83, 84, 85, 86, 87, 88, 89],\n",
       "       [90, 91, 92, 93, 94, 95, 96, 97, 98, 99]])"
      ]
     },
     "execution_count": 39,
     "metadata": {},
     "output_type": "execute_result"
    }
   ],
   "source": [
    "mat"
   ]
  },
  {
   "cell_type": "code",
   "execution_count": 42,
   "id": "c86e20e5-9b10-4f86-90ea-4bf2e016c66c",
   "metadata": {},
   "outputs": [
    {
     "data": {
      "text/plain": [
       "11"
      ]
     },
     "execution_count": 42,
     "metadata": {},
     "output_type": "execute_result"
    }
   ],
   "source": [
    "int(mat[1,1])"
   ]
  },
  {
   "cell_type": "code",
   "execution_count": 46,
   "id": "05225233-ff27-451e-9e18-3a834174da7a",
   "metadata": {},
   "outputs": [
    {
     "data": {
      "text/plain": [
       "array([90, 91, 92, 93, 94, 95, 96, 97, 98, 99])"
      ]
     },
     "execution_count": 46,
     "metadata": {},
     "output_type": "execute_result"
    }
   ],
   "source": [
    "mat[9,:]"
   ]
  },
  {
   "cell_type": "code",
   "execution_count": 47,
   "id": "361707b7-cfa7-4164-a9c8-9d1b6583db29",
   "metadata": {},
   "outputs": [
    {
     "data": {
      "text/plain": [
       "array([ 9, 19, 29, 39, 49, 59, 69, 79, 89, 99])"
      ]
     },
     "execution_count": 47,
     "metadata": {},
     "output_type": "execute_result"
    }
   ],
   "source": [
    "mat[:,9]"
   ]
  },
  {
   "cell_type": "code",
   "execution_count": 48,
   "id": "2f5bec8c-b59a-47c9-9fb7-96c92770e744",
   "metadata": {},
   "outputs": [
    {
     "data": {
      "text/plain": [
       "array([[ 9, 19],\n",
       "       [29, 39],\n",
       "       [49, 59],\n",
       "       [69, 79],\n",
       "       [89, 99]])"
      ]
     },
     "execution_count": 48,
     "metadata": {},
     "output_type": "execute_result"
    }
   ],
   "source": [
    "mat[:,9].reshape(5,2)"
   ]
  },
  {
   "cell_type": "code",
   "execution_count": 49,
   "id": "469b6cca-6120-40d0-b47f-7a9ccebdb811",
   "metadata": {},
   "outputs": [
    {
     "data": {
      "text/plain": [
       "array([[ 0,  1,  2],\n",
       "       [10, 11, 12],\n",
       "       [20, 21, 22]])"
      ]
     },
     "execution_count": 49,
     "metadata": {},
     "output_type": "execute_result"
    }
   ],
   "source": [
    "mat[0:3,0:3]"
   ]
  },
  {
   "cell_type": "code",
   "execution_count": 51,
   "id": "1762cbbf-7acf-46c1-b12c-a751388104c2",
   "metadata": {},
   "outputs": [],
   "source": [
    "mat[3:6,3:6] = 0"
   ]
  },
  {
   "cell_type": "code",
   "execution_count": 52,
   "id": "bd67595d-96c2-41c0-be16-84afd793be71",
   "metadata": {},
   "outputs": [
    {
     "data": {
      "text/plain": [
       "array([[ 0,  1,  2,  3,  4,  5,  6,  7,  8,  9],\n",
       "       [10, 11, 12, 13, 14, 15, 16, 17, 18, 19],\n",
       "       [20, 21, 22, 23, 24, 25, 26, 27, 28, 29],\n",
       "       [30, 31, 32,  0,  0,  0, 36, 37, 38, 39],\n",
       "       [40, 41, 42,  0,  0,  0, 46, 47, 48, 49],\n",
       "       [50, 51, 52,  0,  0,  0, 56, 57, 58, 59],\n",
       "       [60, 61, 62, 63, 64, 65, 66, 67, 68, 69],\n",
       "       [70, 71, 72, 73, 74, 75, 76, 77, 78, 79],\n",
       "       [80, 81, 82, 83, 84, 85, 86, 87, 88, 89],\n",
       "       [90, 91, 92, 93, 94, 95, 96, 97, 98, 99]])"
      ]
     },
     "execution_count": 52,
     "metadata": {},
     "output_type": "execute_result"
    }
   ],
   "source": [
    "mat"
   ]
  },
  {
   "cell_type": "code",
   "execution_count": 63,
   "id": "8782ae63-46b3-4246-8679-54b20972be8e",
   "metadata": {},
   "outputs": [],
   "source": [
    "copy_of_mat = mat.copy()"
   ]
  },
  {
   "cell_type": "code",
   "execution_count": 64,
   "id": "67ae75c0-6f1d-4b05-82fb-6c389bdb197b",
   "metadata": {},
   "outputs": [
    {
     "data": {
      "text/plain": [
       "array([[ 0,  1,  2,  3,  4,  5,  6,  7,  8,  9],\n",
       "       [10, 11, 12, 13, 14, 15, 16, 17, 18, 19],\n",
       "       [20, 21, 22, 23, 24, 25, 26, 27, 28, 29],\n",
       "       [30, 31, 32,  0,  0,  0, 36, 37, 38, 39],\n",
       "       [40, 41, 42,  0,  0,  0, 46, 47, 48, 49],\n",
       "       [50, 51, 52,  0,  0,  0, 56, 57, 58, 59],\n",
       "       [60, 61, 62, 63, 64, 65, 66, 67, 68, 69],\n",
       "       [70, 71, 72, 73, 74, 75, 76, 77, 78, 79],\n",
       "       [80, 81, 82, 83, 84, 85, 86, 87, 88, 89],\n",
       "       [90, 91, 92, 93, 94, 95, 96, 97, 98, 99]])"
      ]
     },
     "execution_count": 64,
     "metadata": {},
     "output_type": "execute_result"
    }
   ],
   "source": [
    "copy_of_mat"
   ]
  },
  {
   "cell_type": "code",
   "execution_count": 65,
   "id": "eb599155-bfa8-4f99-a071-2c4b4ad336d0",
   "metadata": {},
   "outputs": [],
   "source": [
    "copy_of_mat[:,0:3]=55"
   ]
  },
  {
   "cell_type": "code",
   "execution_count": 66,
   "id": "f11e0fc9-3361-4518-8cc0-120d2c491d4b",
   "metadata": {},
   "outputs": [
    {
     "data": {
      "text/plain": [
       "array([[55, 55, 55,  3,  4,  5,  6,  7,  8,  9],\n",
       "       [55, 55, 55, 13, 14, 15, 16, 17, 18, 19],\n",
       "       [55, 55, 55, 23, 24, 25, 26, 27, 28, 29],\n",
       "       [55, 55, 55,  0,  0,  0, 36, 37, 38, 39],\n",
       "       [55, 55, 55,  0,  0,  0, 46, 47, 48, 49],\n",
       "       [55, 55, 55,  0,  0,  0, 56, 57, 58, 59],\n",
       "       [55, 55, 55, 63, 64, 65, 66, 67, 68, 69],\n",
       "       [55, 55, 55, 73, 74, 75, 76, 77, 78, 79],\n",
       "       [55, 55, 55, 83, 84, 85, 86, 87, 88, 89],\n",
       "       [55, 55, 55, 93, 94, 95, 96, 97, 98, 99]])"
      ]
     },
     "execution_count": 66,
     "metadata": {},
     "output_type": "execute_result"
    }
   ],
   "source": [
    "copy_of_mat"
   ]
  }
 ],
 "metadata": {
  "kernelspec": {
   "display_name": "Python 3 (ipykernel)",
   "language": "python",
   "name": "python3"
  },
  "language_info": {
   "codemirror_mode": {
    "name": "ipython",
    "version": 3
   },
   "file_extension": ".py",
   "mimetype": "text/x-python",
   "name": "python",
   "nbconvert_exporter": "python",
   "pygments_lexer": "ipython3",
   "version": "3.11.9"
  }
 },
 "nbformat": 4,
 "nbformat_minor": 5
}
